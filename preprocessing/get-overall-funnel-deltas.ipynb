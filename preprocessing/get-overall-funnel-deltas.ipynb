{
 "cells": [
  {
   "cell_type": "markdown",
   "metadata": {},
   "source": [
    "# Import Packages"
   ]
  },
  {
   "cell_type": "code",
   "execution_count": 9,
   "metadata": {},
   "outputs": [],
   "source": [
    "check.packages = function(pkg) {\n",
    "    new.pkg = pkg[!(pkg %in% installed.packages()[, \"Package\"])]\n",
    "    if (length(new.pkg)) \n",
    "        install.packages(new.pkg, dependencies = TRUE)\n",
    "    sapply(pkg, require, character.only = TRUE)\n",
    "}"
   ]
  },
  {
   "cell_type": "code",
   "execution_count": 12,
   "metadata": {},
   "outputs": [
    {
     "data": {
      "text/html": [
       "<dl class=dl-horizontal>\n",
       "\t<dt>RPostgreSQL</dt>\n",
       "\t\t<dd>TRUE</dd>\n",
       "\t<dt>ggplot2</dt>\n",
       "\t\t<dd>TRUE</dd>\n",
       "\t<dt>dplyr</dt>\n",
       "\t\t<dd>TRUE</dd>\n",
       "\t<dt>gridExtra</dt>\n",
       "\t\t<dd>TRUE</dd>\n",
       "\t<dt>cowplot</dt>\n",
       "\t\t<dd>TRUE</dd>\n",
       "</dl>\n"
      ],
      "text/latex": [
       "\\begin{description*}\n",
       "\\item[RPostgreSQL] TRUE\n",
       "\\item[ggplot2] TRUE\n",
       "\\item[dplyr] TRUE\n",
       "\\item[gridExtra] TRUE\n",
       "\\item[cowplot] TRUE\n",
       "\\end{description*}\n"
      ],
      "text/markdown": [
       "RPostgreSQL\n",
       ":   TRUEggplot2\n",
       ":   TRUEdplyr\n",
       ":   TRUEgridExtra\n",
       ":   TRUEcowplot\n",
       ":   TRUE\n",
       "\n"
      ],
      "text/plain": [
       "RPostgreSQL     ggplot2       dplyr   gridExtra     cowplot \n",
       "       TRUE        TRUE        TRUE        TRUE        TRUE "
      ]
     },
     "metadata": {},
     "output_type": "display_data"
    }
   ],
   "source": [
    "check.packages(c('RPostgreSQL', 'ggplot2', 'dplyr', 'gridExtra', 'cowplot'))"
   ]
  },
  {
   "cell_type": "code",
   "execution_count": 13,
   "metadata": {},
   "outputs": [],
   "source": [
    "options(scipen=999)"
   ]
  },
  {
   "cell_type": "markdown",
   "metadata": {},
   "source": [
    "# Import Data"
   ]
  },
  {
   "cell_type": "code",
   "execution_count": 24,
   "metadata": {},
   "outputs": [
    {
     "data": {
      "text/html": [
       "<table>\n",
       "<thead><tr><th scope=col>period</th><th scope=col>start_date</th><th scope=col>end_date</th><th scope=col>attemptq</th><th scope=col>bvattempt</th><th scope=col>scorecardbv</th><th scope=col>contractscorecard</th><th scope=col>decisionedcontract</th><th scope=col>fundeddecisioned</th><th scope=col>fundingrate</th></tr></thead>\n",
       "<tbody>\n",
       "\t<tr><td>P1        </td><td>2018-12-17</td><td>2019-01-13</td><td>0.6690729 </td><td>0.9480782 </td><td>0.6635135 </td><td>0.7954229 </td><td>0.7649080 </td><td>0.7869979 </td><td>0.2015339 </td></tr>\n",
       "\t<tr><td>P2        </td><td>2019-01-14</td><td>2019-01-20</td><td>0.6574117 </td><td>0.9572050 </td><td>0.6690120 </td><td>0.7633655 </td><td>0.7850172 </td><td>0.7897623 </td><td>0.1992436 </td></tr>\n",
       "</tbody>\n",
       "</table>\n"
      ],
      "text/latex": [
       "\\begin{tabular}{r|llllllllll}\n",
       " period & start\\_date & end\\_date & attemptq & bvattempt & scorecardbv & contractscorecard & decisionedcontract & fundeddecisioned & fundingrate\\\\\n",
       "\\hline\n",
       "\t P1         & 2018-12-17 & 2019-01-13 & 0.6690729  & 0.9480782  & 0.6635135  & 0.7954229  & 0.7649080  & 0.7869979  & 0.2015339 \\\\\n",
       "\t P2         & 2019-01-14 & 2019-01-20 & 0.6574117  & 0.9572050  & 0.6690120  & 0.7633655  & 0.7850172  & 0.7897623  & 0.1992436 \\\\\n",
       "\\end{tabular}\n"
      ],
      "text/markdown": [
       "\n",
       "period | start_date | end_date | attemptq | bvattempt | scorecardbv | contractscorecard | decisionedcontract | fundeddecisioned | fundingrate | \n",
       "|---|---|\n",
       "| P1         | 2018-12-17 | 2019-01-13 | 0.6690729  | 0.9480782  | 0.6635135  | 0.7954229  | 0.7649080  | 0.7869979  | 0.2015339  | \n",
       "| P2         | 2019-01-14 | 2019-01-20 | 0.6574117  | 0.9572050  | 0.6690120  | 0.7633655  | 0.7850172  | 0.7897623  | 0.1992436  | \n",
       "\n",
       "\n"
      ],
      "text/plain": [
       "  period start_date end_date   attemptq  bvattempt scorecardbv\n",
       "1 P1     2018-12-17 2019-01-13 0.6690729 0.9480782 0.6635135  \n",
       "2 P2     2019-01-14 2019-01-20 0.6574117 0.9572050 0.6690120  \n",
       "  contractscorecard decisionedcontract fundeddecisioned fundingrate\n",
       "1 0.7954229         0.7649080          0.7869979        0.2015339  \n",
       "2 0.7633655         0.7850172          0.7897623        0.1992436  "
      ]
     },
     "metadata": {},
     "output_type": "display_data"
    }
   ],
   "source": [
    "## For Previous 4 cohort\n",
    "# df = read.csv('C:/Users/jchang/Desktop/Projects/Automate FR Meetings/data/_2019-1-21_0823.csv')\n",
    "\n",
    "## For Previous 4 cohort (SNAPSHOT)\n",
    "# df = read.csv('C:/Users/jchang/Desktop/Projects/Automate FR Meetings/data/datadeltassnapshot_2019-1-21_0902.csv')\n",
    "\n",
    "## For Previous 4 cohort (SNAPSHOT - 2 WITH HEAP)\n",
    "df = read.csv('C:/Users/jchang/Desktop/Projects/Automate FR Meetings/data/datadeltassnapshotheap_2019-1-21_2035.csv')\n",
    "\n",
    "## For Previous 1 cohort (SNAPSHOT - 2 WITH HEAP)\n",
    "# df = read.csv('C:/Users/jchang/Desktop/Projects/Automate FR Meetings/data/datadeltassnapshotheap_2019-1-21_2026.csv')\n",
    "\n",
    "\n",
    "df"
   ]
  },
  {
   "cell_type": "markdown",
   "metadata": {},
   "source": [
    "# Construct Data Frame for Deltas ggplot"
   ]
  },
  {
   "cell_type": "code",
   "execution_count": 25,
   "metadata": {},
   "outputs": [],
   "source": [
    "getDeltasMaturedDF = function() {\n",
    "    \n",
    "    levers = c(\n",
    "        '2Attempt IBV', \n",
    "        '3Complete IBV',\n",
    "        '4Pass Scorecard', \n",
    "        '5Contract Signed', \n",
    "        '6Decisioned', \n",
    "        '7Funded/Decisioned', \n",
    "        'Funding Rate'\n",
    "    )\n",
    "    \n",
    "    bridge = c(\n",
    "        df$attemptq[which(df$period == \"P2\")] - df$attemptq[which(df$period == \"P1\")],\n",
    "        df$bvattempt[which(df$period == \"P2\")] - df$bvattempt[which(df$period == \"P1\")],\n",
    "        df$scorecardbv[which(df$period == \"P2\")] - df$scorecardbv[which(df$period == \"P1\")],\n",
    "        df$contractscorecard[which(df$period == \"P2\")] - df$contractscorecard[which(df$period == \"P1\")],\n",
    "        df$decisionedcontract[which(df$period == \"P2\")] - df$decisionedcontract[which(df$period == \"P1\")],\n",
    "        df$fundeddecisioned[which(df$period == \"P2\")] - df$fundeddecisioned[which(df$period == \"P1\")],\n",
    "        df$fundingrate[which(df$period == \"P2\")] - df$fundingrate[which(df$period == \"P1\")]\n",
    "    )\n",
    "    \n",
    "    color = c(\n",
    "        ifelse(bridge[1] >= 0, \"green\", \"red\"),\n",
    "        ifelse(bridge[2] >= 0, \"green\", \"red\"),\n",
    "        ifelse(bridge[3] >= 0, \"green\", \"red\"),\n",
    "        ifelse(bridge[4] >= 0, \"green\", \"red\"),\n",
    "        ifelse(bridge[5] >= 0, \"green\", \"red\"),\n",
    "        ifelse(bridge[6] >= 0, \"green\", \"red\"),\n",
    "        ifelse(bridge[7] >= 0, \"green\", \"red\")\n",
    "    )\n",
    "    \n",
    "    values.format = c(\n",
    "        paste(round(10000 * bridge, 0), \"bps\", sep = \" \")\n",
    "    )\n",
    "    \n",
    "    df.deltas = data.frame(\n",
    "        levers, \n",
    "        bridge, \n",
    "        color, \n",
    "        values.format\n",
    "    )    \n",
    "    \n",
    "    return(df.deltas)    \n",
    "}"
   ]
  },
  {
   "cell_type": "code",
   "execution_count": 26,
   "metadata": {},
   "outputs": [],
   "source": [
    "getDeltasSnapshotDF = function() {\n",
    "    \n",
    "    levers = c(\n",
    "        '2BV/Q', \n",
    "        '3Pass Scorecard', \n",
    "        '4Contract Signed', \n",
    "        '5Decisioned', \n",
    "        '6Funded/Decisioned', \n",
    "        'Funding Rate'\n",
    "    )\n",
    "    \n",
    "    bridge = c(\n",
    "        df$bvq[which(df$period == \"P2\")] - df$bvq[which(df$period == \"P1\")],\n",
    "        df$scorecardbv[which(df$period == \"P2\")] - df$scorecardbv[which(df$period == \"P1\")],\n",
    "        df$contractscorecard[which(df$period == \"P2\")] - df$contractscorecard[which(df$period == \"P1\")],\n",
    "        df$decisionedcontract[which(df$period == \"P2\")] - df$decisionedcontract[which(df$period == \"P1\")],\n",
    "        df$fundeddecisioned[which(df$period == \"P2\")] - df$fundeddecisioned[which(df$period == \"P1\")],\n",
    "        df$fundingrate[which(df$period == \"P2\")] - df$fundingrate[which(df$period == \"P1\")]\n",
    "    )\n",
    "    \n",
    "    color = c(\n",
    "        ifelse(bridge[1] >= 0, \"green\", \"red\"),\n",
    "        ifelse(bridge[2] >= 0, \"green\", \"red\"),\n",
    "        ifelse(bridge[3] >= 0, \"green\", \"red\"),\n",
    "        ifelse(bridge[4] >= 0, \"green\", \"red\"),\n",
    "        ifelse(bridge[5] >= 0, \"green\", \"red\"),\n",
    "        ifelse(bridge[6] >= 0, \"green\", \"red\")\n",
    "    )\n",
    "    \n",
    "    values.format = c(\n",
    "        paste(round(10000 * bridge, 0), \"bps\", sep = \" \")\n",
    "    )\n",
    "    \n",
    "    df.deltas = data.frame(\n",
    "        levers, \n",
    "        bridge, \n",
    "        color, \n",
    "        values.format\n",
    "    )    \n",
    "    \n",
    "    return(df.deltas)    \n",
    "}"
   ]
  },
  {
   "cell_type": "code",
   "execution_count": 27,
   "metadata": {},
   "outputs": [
    {
     "data": {
      "text/html": [
       "<table>\n",
       "<thead><tr><th scope=col>levers</th><th scope=col>bridge</th><th scope=col>color</th><th scope=col>values.format</th></tr></thead>\n",
       "<tbody>\n",
       "\t<tr><td>2Attempt IBV      </td><td>-0.011661185      </td><td>red               </td><td>-117 bps          </td></tr>\n",
       "\t<tr><td>3Complete IBV     </td><td> 0.009126775      </td><td>green             </td><td>91 bps            </td></tr>\n",
       "\t<tr><td>4Pass Scorecard   </td><td> 0.005498506      </td><td>green             </td><td>55 bps            </td></tr>\n",
       "\t<tr><td>5Contract Signed  </td><td>-0.032057406      </td><td>red               </td><td>-321 bps          </td></tr>\n",
       "\t<tr><td>6Decisioned       </td><td> 0.020109197      </td><td>green             </td><td>201 bps           </td></tr>\n",
       "\t<tr><td>7Funded/Decisioned</td><td> 0.002764454      </td><td>green             </td><td>28 bps            </td></tr>\n",
       "\t<tr><td>Funding Rate      </td><td>-0.002290338      </td><td>red               </td><td>-23 bps           </td></tr>\n",
       "</tbody>\n",
       "</table>\n"
      ],
      "text/latex": [
       "\\begin{tabular}{r|llll}\n",
       " levers & bridge & color & values.format\\\\\n",
       "\\hline\n",
       "\t 2Attempt IBV       & -0.011661185       & red                & -117 bps          \\\\\n",
       "\t 3Complete IBV      &  0.009126775       & green              & 91 bps            \\\\\n",
       "\t 4Pass Scorecard    &  0.005498506       & green              & 55 bps            \\\\\n",
       "\t 5Contract Signed   & -0.032057406       & red                & -321 bps          \\\\\n",
       "\t 6Decisioned        &  0.020109197       & green              & 201 bps           \\\\\n",
       "\t 7Funded/Decisioned &  0.002764454       & green              & 28 bps            \\\\\n",
       "\t Funding Rate       & -0.002290338       & red                & -23 bps           \\\\\n",
       "\\end{tabular}\n"
      ],
      "text/markdown": [
       "\n",
       "levers | bridge | color | values.format | \n",
       "|---|---|---|---|---|---|---|\n",
       "| 2Attempt IBV       | -0.011661185       | red                | -117 bps           | \n",
       "| 3Complete IBV      |  0.009126775       | green              | 91 bps             | \n",
       "| 4Pass Scorecard    |  0.005498506       | green              | 55 bps             | \n",
       "| 5Contract Signed   | -0.032057406       | red                | -321 bps           | \n",
       "| 6Decisioned        |  0.020109197       | green              | 201 bps            | \n",
       "| 7Funded/Decisioned |  0.002764454       | green              | 28 bps             | \n",
       "| Funding Rate       | -0.002290338       | red                | -23 bps            | \n",
       "\n",
       "\n"
      ],
      "text/plain": [
       "  levers             bridge       color values.format\n",
       "1 2Attempt IBV       -0.011661185 red   -117 bps     \n",
       "2 3Complete IBV       0.009126775 green 91 bps       \n",
       "3 4Pass Scorecard     0.005498506 green 55 bps       \n",
       "4 5Contract Signed   -0.032057406 red   -321 bps     \n",
       "5 6Decisioned         0.020109197 green 201 bps      \n",
       "6 7Funded/Decisioned  0.002764454 green 28 bps       \n",
       "7 Funding Rate       -0.002290338 red   -23 bps      "
      ]
     },
     "metadata": {},
     "output_type": "display_data"
    }
   ],
   "source": [
    "getDeltasDF = function(snapshot = FALSE) {\n",
    "    \n",
    "    if (snapshot == FALSE) {\n",
    "        deltas.final = getDeltasMaturedDF()\n",
    "    } else if (snapshot == TRUE) {\n",
    "        deltas.final = getDeltasSnapshotDF()\n",
    "    }\n",
    "        \n",
    "    return(deltas.final)    \n",
    "}\n",
    "\n",
    "df.deltas = getDeltasDF(snapshot = FALSE)\n",
    "df.deltas"
   ]
  },
  {
   "cell_type": "markdown",
   "metadata": {},
   "source": [
    "# Construct Deltas ggplot"
   ]
  },
  {
   "cell_type": "code",
   "execution_count": 28,
   "metadata": {},
   "outputs": [],
   "source": [
    "theme_set(theme_bw())\n",
    "\n",
    "getDeltasPlot = function(snapshot = FALSE) {\n",
    "    \n",
    "    deltas.plot = ggplot(\n",
    "        data = getDeltasDF(snapshot = snapshot), \n",
    "        mapping = aes(\n",
    "            x = levers, \n",
    "            y = bridge * 10000, \n",
    "            fill = color\n",
    "        )\n",
    "    ) + \n",
    "    geom_col() +\n",
    "    scale_fill_manual(\n",
    "        'legend', \n",
    "        values = c('red' = 'brown1', 'green' = 'springgreen4')\n",
    "    ) +\n",
    "    geom_text(\n",
    "        aes(\n",
    "            label = values.format\n",
    "        ), \n",
    "        position = \"stack\", \n",
    "        vjust = -0.5, \n",
    "        size = 4.0\n",
    "    ) + \n",
    "    labs(\n",
    "        x = \"Levers\", \n",
    "        y = \"BPS\", \n",
    "        title = paste(\n",
    "            \"Funding Rate Bridge - Conversion Deltas\", \n",
    "            \"\\n\", \"From \", df$start_date[which(df$period == \"P1\")], \" to \", df$end_date[which(df$period == \"P1\")], \n",
    "            \"\\n\", \"Through \", df$start_date[which(df$period == \"P2\")], \" to \", df$end_date[which(df$period == \"P2\")]\n",
    "        )\n",
    "    ) + \n",
    "    theme(\n",
    "        plot.title = element_text(\n",
    "            hjust = 0.5\n",
    "        ), \n",
    "        legend.position = \"none\", \n",
    "        axis.text.x = element_text(\n",
    "            angle = 45, \n",
    "            vjust = 1, \n",
    "            hjust = 1)\n",
    "    )\n",
    "    \n",
    "    return(deltas.plot)\n",
    "}"
   ]
  },
  {
   "cell_type": "code",
   "execution_count": 29,
   "metadata": {},
   "outputs": [
    {
     "data": {},
     "metadata": {},
     "output_type": "display_data"
    },
    {
     "data": {
      "image/png": "[encoded data removed]",
      "text/plain": [
       "plot without title"
      ]
     },
     "metadata": {},
     "output_type": "display_data"
    }
   ],
   "source": [
    "deltas.plot = getDeltasPlot(snapshot = FALSE)\n",
    "# deltas.plot = getDeltasPlot(snapshot = TRUE)\n",
    "\n",
    "deltas.plot"
   ]
  },
  {
   "cell_type": "code",
   "execution_count": null,
   "metadata": {},
   "outputs": [],
   "source": []
  },
  {
   "cell_type": "code",
   "execution_count": null,
   "metadata": {},
   "outputs": [],
   "source": []
  },
  {
   "cell_type": "code",
   "execution_count": 20,
   "metadata": {},
   "outputs": [],
   "source": [
    "# library(ggplot2)\n",
    "\n",
    "# levers = c(\"2Attempt IBV\", \"3Complete IBV\", \"4Pass Scorecard\", \"5Contract Signed\", \"6Decisioned\", \"7Funded/Decisioned\", \"Funding Rate\")\n",
    "# bridge = c((df$attemptq[which(df$period == \"P2\")]-df$attemptq[which(df$period == \"P1\")])\n",
    "#            , (df$bvattempt[which(df$period == \"P2\")]-df$bvattempt[which(df$period == \"P1\")])\n",
    "#            , (df$scorecardbv[which(df$period == \"P2\")]-df$scorecardbv[which(df$period == \"P1\")])\n",
    "#            , (df$contractscorecard[which(df$period == \"P2\")]-df$contractscorecard[which(df$period == \"P1\")])\n",
    "#            , (df$decisionedcontract[which(df$period == \"P2\")]-df$decisionedcontract[which(df$period == \"P1\")])\n",
    "#            , (df$fundeddecisioned[which(df$period == \"P2\")]-df$fundeddecisioned[which(df$period == \"P1\")])\n",
    "#            , (df$fundingrate[which(df$period == \"P2\")]-df$fundingrate[which(df$period == \"P1\")]))\n",
    "\n",
    "# color = c(ifelse(bridge[1] >= 0, \"green\", \"red\")\n",
    "#           , ifelse(bridge[2] >= 0, \"green\", \"red\")\n",
    "#           , ifelse(bridge[3] >= 0, \"green\", \"red\")\n",
    "#           , ifelse(bridge[4] >= 0, \"green\", \"red\")\n",
    "#           , ifelse(bridge[5] >= 0, \"green\", \"red\")\n",
    "#           , ifelse(bridge[6] >= 0, \"green\", \"red\")\n",
    "#           , ifelse(bridge[7] >= 0, \"green\", \"red\"))\n",
    "\n",
    "# values_format = c(paste(round(10000*bridge, 0), \"bps\", sep = \" \"))\n",
    "\n",
    "# df2 = data.frame(levers, bridge, color, values_format)\n",
    "\n",
    "# p1 = ggplot(data = df2, mapping = aes(x = levers, y = bridge*10000, fill = color)) + geom_col()\n",
    "# p1\n",
    "# p2 = p1 + scale_fill_manual(\"legend\", values = c(\"red\" = \"brown1\", \"green\" = \"springgreen4\"))\n",
    "# p2\n",
    "# p3 = p2 + geom_text(aes(label = values_format), position = \"stack\", vjust = -0.5, size = 4.0) + labs(x = \"Levers\", y = \"BPS\", title = paste(\"Funding Rate Bridge - Pass Thru Rates Changes\", \"\\n\", \"From \", df$startdate[which(df$period == \"P1\")], \" to \", df$enddate[which(df$period == \"P1\")], \"\\n\", \"Through \", df$startdate[which(df$period == \"P2\")], \" to \", df$enddate[which(df$period == \"P2\")])) + theme(plot.title = element_text(hjust = 0.5), legend.position = \"none\", axis.text.x = element_text(angle = 45, vjust = 1, hjust = 1))\n",
    "# p3\n",
    "\n",
    "# periscope.image()"
   ]
  },
  {
   "cell_type": "code",
   "execution_count": null,
   "metadata": {},
   "outputs": [],
   "source": []
  },
  {
   "cell_type": "code",
   "execution_count": null,
   "metadata": {},
   "outputs": [],
   "source": []
  }
 ],
 "metadata": {
  "kernelspec": {
   "display_name": "R",
   "language": "R",
   "name": "ir"
  },
  "language_info": {
   "codemirror_mode": "r",
   "file_extension": ".r",
   "mimetype": "text/x-r-source",
   "name": "R",
   "pygments_lexer": "r",
   "version": "3.5.2"
  }
 },
 "nbformat": 4,
 "nbformat_minor": 2
}
